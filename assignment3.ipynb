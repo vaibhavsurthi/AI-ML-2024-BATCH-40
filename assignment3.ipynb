{
  "nbformat": 4,
  "nbformat_minor": 0,
  "metadata": {
    "colab": {
      "provenance": []
    },
    "kernelspec": {
      "name": "python3",
      "display_name": "Python 3"
    },
    "language_info": {
      "name": "python"
    }
  },
  "cells": [
    {
      "cell_type": "markdown",
      "source": [
        "implement mini max game algorithm"
      ],
      "metadata": {
        "id": "r2-ver-Lo2Nh"
      }
    },
    {
      "cell_type": "code",
      "source": [
        "class Node:\n",
        "    def __init__(self, value=None):\n",
        "        self.value = value\n",
        "        self.children = []\n",
        "\n",
        "    def add_child(self, child):\n",
        "        self.children.append(child)\n",
        "\n",
        "node12 = Node(12)\n",
        "node10 = Node(10)\n",
        "node36 = Node(36)\n",
        "node25 = Node(25)\n",
        "nodeB = Node()\n",
        "nodeC = Node()\n",
        "nodeB.add_child(node12)\n",
        "nodeB.add_child(node10)\n",
        "nodeC.add_child(node36)\n",
        "nodeC.add_child(node25)\n",
        "nodeA = Node()\n",
        "nodeA.add_child(nodeB)\n",
        "nodeA.add_child(nodeC)\n",
        "\n",
        "def min_max(node, is_max):\n",
        "    if not node.children:\n",
        "        return node.value\n",
        "\n",
        "    if is_max:\n",
        "        max_value = float('-inf')\n",
        "        for child in node.children:\n",
        "            val = min_max(child, False)\n",
        "            max_value = max(max_value, val)\n",
        "\n",
        "        node.value = max_value\n",
        "        return max_value\n",
        "\n",
        "    else:\n",
        "        min_value = float('inf')\n",
        "        for child in node.children:\n",
        "            val = min_max(child, True)\n",
        "            min_value = min(min_value, val)\n",
        "\n",
        "        node.value = min_value  # assign the computed min value to the current node\n",
        "        return min_value\n",
        "\n",
        "# Compute and print the optimal move's value according to Min-Max algorithm\n",
        "print(\"The optimal move's value according to Min-Max algorithm is:\", min_max(nodeA, True))\n"
      ],
      "metadata": {
        "colab": {
          "base_uri": "https://localhost:8080/"
        },
        "id": "pAyKPxA8twLo",
        "outputId": "6b1e56ea-2a89-4195-ad4a-200a44c25f5b"
      },
      "execution_count": null,
      "outputs": [
        {
          "output_type": "stream",
          "name": "stdout",
          "text": [
            "The optimal move's value according to Min-Max algorithm is: 25\n"
          ]
        }
      ]
    }
  ]
}